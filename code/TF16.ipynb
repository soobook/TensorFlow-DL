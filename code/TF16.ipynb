{
  "nbformat": 4,
  "nbformat_minor": 0,
  "metadata": {
    "colab": {
      "provenance": [],
      "gpuType": "T4",
      "include_colab_link": true
    },
    "kernelspec": {
      "name": "python3",
      "display_name": "Python 3"
    },
    "language_info": {
      "name": "python"
    },
    "accelerator": "GPU"
  },
  "cells": [
    {
      "cell_type": "markdown",
      "metadata": {
        "id": "view-in-github",
        "colab_type": "text"
      },
      "source": [
        "<a href=\"https://colab.research.google.com/github/soobook/TensorFlow-DL/blob/main/code/TF16.ipynb\" target=\"_parent\"><img src=\"https://colab.research.google.com/assets/colab-badge.svg\" alt=\"Open In Colab\"/></a>"
      ]
    },
    {
      "cell_type": "markdown",
      "source": [
        "# 16회차: DNN-GAN을 활용한 손글씨 모방하기 (2) - 모델 구현\n"
      ],
      "metadata": {
        "id": "DiohrIWbZe8o"
      }
    },
    {
      "cell_type": "code",
      "source": [
        "# -------------------- 1. 라이브러리 로딩 --------------------\n",
        "import os\n",
        "import numpy as np\n",
        "import tensorflow as tf\n",
        "import matplotlib.pyplot as plt\n",
        "import tensorflow_probability as tfp\n",
        "from tensorflow.keras import layers\n",
        "from scipy.linalg import sqrtm\n",
        "from tensorflow.keras.applications.inception_v3 import InceptionV3, preprocess_input"
      ],
      "metadata": {
        "id": "e8nx8sUUzJ4J"
      },
      "execution_count": 1,
      "outputs": []
    },
    {
      "cell_type": "markdown",
      "source": [
        "### MNIST 데이터셋 로드와 데이터 전처리\n",
        "- GAN 학습에 맞게 전처리: 이미지 [-1, 1] 정규화와 이미지 평탄화(flatten) 작업 수행  \n",
        "\t- GAN의 생성자는 마지막 층의 활성화 함수로 tanh를 사용하므로 이 범위에 맞춤\n",
        "  - 진짜 이미지도 같은 범위인 [-1, 1]로 정규화 해줘야 판별자(Discriminator)가 올바르게 비교가 가능\n",
        "\n"
      ],
      "metadata": {
        "id": "jQdcgozSipjP"
      }
    },
    {
      "cell_type": "code",
      "source": [
        "# -------------------- 2. 데이터 준비 --------------------\n",
        "(x_train, _), (_, _) = tf.keras.datasets.mnist.load_data()\n",
        "print(\"정규화 전:\", x_train.min(), x_train.max())\n",
        "# [-1, 1]로 정규화\n",
        "x_train = (x_train.astype(\"float32\") - 127.5) / 127.5  # [-1, 1]\n",
        "\n",
        "print(\"정규화 후:\", x_train.min(), x_train.max())\n",
        "print(x_train.shape)\n",
        "x_train = x_train.reshape((-1, 784))\n",
        "print(x_train.shape)"
      ],
      "metadata": {
        "colab": {
          "base_uri": "https://localhost:8080/"
        },
        "id": "ihyAoxxpilEX",
        "outputId": "60c168e4-864a-4eda-8677-b4d6fc5541bf"
      },
      "execution_count": 2,
      "outputs": [
        {
          "output_type": "stream",
          "name": "stdout",
          "text": [
            "Downloading data from https://storage.googleapis.com/tensorflow/tf-keras-datasets/mnist.npz\n",
            "\u001b[1m11490434/11490434\u001b[0m \u001b[32m━━━━━━━━━━━━━━━━━━━━\u001b[0m\u001b[37m\u001b[0m \u001b[1m0s\u001b[0m 0us/step\n",
            "정규화 전: 0 255\n",
            "정규화 후: -1.0 1.0\n",
            "(60000, 28, 28)\n",
            "(60000, 784)\n"
          ]
        }
      ]
    },
    {
      "cell_type": "code",
      "source": [
        "# 시각화 준비\n",
        "!pip install koreanize_matplotlib\n",
        "import koreanize_matplotlib\n",
        "%config InlineBackend.figure_format = 'retina'"
      ],
      "metadata": {
        "colab": {
          "base_uri": "https://localhost:8080/"
        },
        "id": "Ld54Y2HJZHq-",
        "outputId": "33e2dfc8-2f89-482e-a37c-50e7ffc1a565"
      },
      "execution_count": 3,
      "outputs": [
        {
          "output_type": "stream",
          "name": "stdout",
          "text": [
            "Collecting koreanize_matplotlib\n",
            "  Downloading koreanize_matplotlib-0.1.1-py3-none-any.whl.metadata (992 bytes)\n",
            "Requirement already satisfied: matplotlib in /usr/local/lib/python3.12/dist-packages (from koreanize_matplotlib) (3.10.0)\n",
            "Requirement already satisfied: contourpy>=1.0.1 in /usr/local/lib/python3.12/dist-packages (from matplotlib->koreanize_matplotlib) (1.3.3)\n",
            "Requirement already satisfied: cycler>=0.10 in /usr/local/lib/python3.12/dist-packages (from matplotlib->koreanize_matplotlib) (0.12.1)\n",
            "Requirement already satisfied: fonttools>=4.22.0 in /usr/local/lib/python3.12/dist-packages (from matplotlib->koreanize_matplotlib) (4.60.1)\n",
            "Requirement already satisfied: kiwisolver>=1.3.1 in /usr/local/lib/python3.12/dist-packages (from matplotlib->koreanize_matplotlib) (1.4.9)\n",
            "Requirement already satisfied: numpy>=1.23 in /usr/local/lib/python3.12/dist-packages (from matplotlib->koreanize_matplotlib) (2.0.2)\n",
            "Requirement already satisfied: packaging>=20.0 in /usr/local/lib/python3.12/dist-packages (from matplotlib->koreanize_matplotlib) (25.0)\n",
            "Requirement already satisfied: pillow>=8 in /usr/local/lib/python3.12/dist-packages (from matplotlib->koreanize_matplotlib) (11.3.0)\n",
            "Requirement already satisfied: pyparsing>=2.3.1 in /usr/local/lib/python3.12/dist-packages (from matplotlib->koreanize_matplotlib) (3.2.5)\n",
            "Requirement already satisfied: python-dateutil>=2.7 in /usr/local/lib/python3.12/dist-packages (from matplotlib->koreanize_matplotlib) (2.9.0.post0)\n",
            "Requirement already satisfied: six>=1.5 in /usr/local/lib/python3.12/dist-packages (from python-dateutil>=2.7->matplotlib->koreanize_matplotlib) (1.17.0)\n",
            "Downloading koreanize_matplotlib-0.1.1-py3-none-any.whl (7.9 MB)\n",
            "\u001b[?25l   \u001b[90m━━━━━━━━━━━━━━━━━━━━━━━━━━━━━━━━━━━━━━━━\u001b[0m \u001b[32m0.0/7.9 MB\u001b[0m \u001b[31m?\u001b[0m eta \u001b[36m-:--:--\u001b[0m\r\u001b[2K   \u001b[91m━━━━━━━\u001b[0m\u001b[90m╺\u001b[0m\u001b[90m━━━━━━━━━━━━━━━━━━━━━━━━━━━━━━━━\u001b[0m \u001b[32m1.5/7.9 MB\u001b[0m \u001b[31m43.5 MB/s\u001b[0m eta \u001b[36m0:00:01\u001b[0m\r\u001b[2K   \u001b[91m━━━━━━━━━━━━━━━━━━━━━━━\u001b[0m\u001b[90m╺\u001b[0m\u001b[90m━━━━━━━━━━━━━━━━\u001b[0m \u001b[32m4.6/7.9 MB\u001b[0m \u001b[31m69.0 MB/s\u001b[0m eta \u001b[36m0:00:01\u001b[0m\r\u001b[2K   \u001b[91m━━━━━━━━━━━━━━━━━━━━━━━━━━━━━━━━━━━━━━━\u001b[0m\u001b[91m╸\u001b[0m \u001b[32m7.9/7.9 MB\u001b[0m \u001b[31m86.3 MB/s\u001b[0m eta \u001b[36m0:00:01\u001b[0m\r\u001b[2K   \u001b[90m━━━━━━━━━━━━━━━━━━━━━━━━━━━━━━━━━━━━━━━━\u001b[0m \u001b[32m7.9/7.9 MB\u001b[0m \u001b[31m69.6 MB/s\u001b[0m eta \u001b[36m0:00:00\u001b[0m\n",
            "\u001b[?25hInstalling collected packages: koreanize_matplotlib\n",
            "Successfully installed koreanize_matplotlib-0.1.1\n"
          ]
        }
      ]
    },
    {
      "cell_type": "markdown",
      "source": [
        "### 생성자 마지막 층에서 활성화 함수 tanh()를 사용해 [-1, 1] 이미지를 생성하는 이유\n",
        "  - 픽셀값이 너무 크거나 작지 않게 “자연스러운 이미지 범위”로 맞춰서 학습 안정성과 출력 품질을 향상\n",
        "  - 생성자가 만들어 내는 가짜 이미지가 [-1, 1]의 값이므로\n",
        "  - 진짜 이미지도 같은 범위인 [-1, 1]로 정규화 해줘야 판별자(Discriminator)가 올바르게 비교가 가능\n",
        "\n",
        "### 함수 tanh()\n",
        "$$\n",
        "\\tanh(x) = \\frac{\\sinh(x)}{\\cosh(x)} = \\frac{e^{x} - e^{-x}}{e^{x} + e^{-x}}\n",
        "$$\n",
        "\n",
        "\n",
        "\n"
      ],
      "metadata": {
        "id": "tAART0aOlZ0k"
      }
    },
    {
      "cell_type": "code",
      "source": [
        "import numpy as np\n",
        "import matplotlib.pyplot as plt\n",
        "\n",
        "# 입력 범위 설정: -5 ~ 5 사이 실수값\n",
        "x = np.linspace(-5, 5, 500)\n",
        "# tanh 함수 계산\n",
        "y = np.tanh(x)\n",
        "\n",
        "# 그래프 그리기\n",
        "plt.figure(figsize=(5, 3))\n",
        "plt.plot(x, y, label='tanh(x)', color='blue')\n",
        "plt.title(\"Hyperbolic Tangent Function (tanh)\")\n",
        "plt.xlabel(\"x\")\n",
        "plt.ylabel(\"tanh(x)\")\n",
        "plt.axhline(0, color='gray', linestyle='--')\n",
        "plt.axvline(0, color='gray', linestyle='--')\n",
        "plt.grid(True)\n",
        "plt.legend()\n",
        "plt.show()"
      ],
      "metadata": {
        "colab": {
          "base_uri": "https://localhost:8080/",
          "height": 330
        },
        "id": "aFJcJfFruHUd",
        "outputId": "c87be7f8-553f-4885-9a7b-176603c69f21"
      },
      "execution_count": 4,
      "outputs": [
        {
          "output_type": "display_data",
          "data": {
            "text/plain": [
              "<Figure size 500x300 with 1 Axes>"
            ],
            "image/png": "[encoded data removed]"
          },
          "metadata": {
            "image/png": {
              "width": 461,
              "height": 313
            }
          }
        }
      ]
    },
    {
      "cell_type": "markdown",
      "source": [
        "### GAN 학습을 위한 데이터 준비\n",
        "- BUFFER_SIZE = 60000: 셔플(무작위 섞기)를 위한 버퍼 크기\n",
        "  - MNIST 전체 학습 이미지 수(60,000개)와 일치시켜 전체를 완전히 섞음\n",
        "- BATCH_SIZE = 128: 한 번에 모델에 입력해 가중치를 수정하는 이미지 수\n",
        "  - 즉, 한 step에서 판별자와 생성자가 학습하는 데이터 양을 정함\n",
        "  - 너무 작으면 학습이 느리고 불안정, 너무 크면 메모리 부족\n"
      ],
      "metadata": {
        "id": "Kyi2QIdYmc06"
      }
    },
    {
      "cell_type": "code",
      "source": [
        "BUFFER_SIZE = 60000\n",
        "BATCH_SIZE = 128\n",
        "train_dataset = tf.data.Dataset.from_tensor_slices(x_train). \\\n",
        "                shuffle(BUFFER_SIZE).batch(BATCH_SIZE)"
      ],
      "metadata": {
        "id": "XwDCZIBGuUzt"
      },
      "execution_count": 5,
      "outputs": []
    },
    {
      "cell_type": "code",
      "source": [
        "tf.__version__"
      ],
      "metadata": {
        "colab": {
          "base_uri": "https://localhost:8080/",
          "height": 35
        },
        "id": "AN6yql3SvGQD",
        "outputId": "aef57503-198b-49c9-9a33-fefebbd58812"
      },
      "execution_count": 7,
      "outputs": [
        {
          "output_type": "execute_result",
          "data": {
            "text/plain": [
              "'2.19.0'"
            ],
            "application/vnd.google.colaboratory.intrinsic+json": {
              "type": "string"
            }
          },
          "metadata": {},
          "execution_count": 7
        }
      ]
    },
    {
      "cell_type": "code",
      "source": [
        "# Dataset 구조 확인\n",
        "print(train_dataset.element_spec, '\\n')\n",
        "\n",
        "# Dataset에서 배치의 수 확인\n",
        "count = 0\n",
        "for _ in train_dataset:\n",
        "    count += 1\n",
        "print(\"총 배치 개수:\", count, '\\n')\n",
        "\n",
        "# 첫 번째 배치만 출력\n",
        "for batch in train_dataset.take(2):\n",
        "    print(\"배치 shape:\", batch.shape)\n",
        "    print(\"배치 일부 데이터:\\n\", batch[0:5])  # 앞의 5개 데이터만 출력"
      ],
      "metadata": {
        "colab": {
          "base_uri": "https://localhost:8080/"
        },
        "id": "AJHb1XbudnyV",
        "outputId": "3bcd0c20-a088-4267-cfff-3f6138ec05de"
      },
      "execution_count": 10,
      "outputs": [
        {
          "output_type": "stream",
          "name": "stdout",
          "text": [
            "TensorSpec(shape=(None, 784), dtype=tf.float32, name=None) \n",
            "\n",
            "총 배치 개수: 469 \n",
            "\n",
            "배치 shape: (128, 784)\n",
            "배치 일부 데이터:\n",
            " tf.Tensor(\n",
            "[[-1. -1. -1. ... -1. -1. -1.]\n",
            " [-1. -1. -1. ... -1. -1. -1.]\n",
            " [-1. -1. -1. ... -1. -1. -1.]\n",
            " [-1. -1. -1. ... -1. -1. -1.]\n",
            " [-1. -1. -1. ... -1. -1. -1.]], shape=(5, 784), dtype=float32)\n",
            "배치 shape: (128, 784)\n",
            "배치 일부 데이터:\n",
            " tf.Tensor(\n",
            "[[-1. -1. -1. ... -1. -1. -1.]\n",
            " [-1. -1. -1. ... -1. -1. -1.]\n",
            " [-1. -1. -1. ... -1. -1. -1.]\n",
            " [-1. -1. -1. ... -1. -1. -1.]\n",
            " [-1. -1. -1. ... -1. -1. -1.]], shape=(5, 784), dtype=float32)\n"
          ]
        }
      ]
    },
    {
      "cell_type": "markdown",
      "source": [
        "### 생성자(Generator) 모델 정의: 노이즈 → 손글씨 이미지 생성\n",
        "- 입력: 100차원 랜덤 노이즈 벡터 z\n",
        "- Dense(256) → 중간 은닉층\n",
        "- Dense(512) → 더 복잡한 구조로 확장\n",
        "- Dense(784, activation='tanh') → 28×28 이미지를 펼친 벡터 ([-1, 1] 범위 출력)\n",
        "\n",
        "\n"
      ],
      "metadata": {
        "id": "3rr-88PavQT4"
      }
    },
    {
      "cell_type": "markdown",
      "source": [
        "\n",
        "### 판별자(Discriminator) 모델 정의: 이미지 → 진짜/가짜 판별\n",
        "- 입력: 784차원 이미지 벡터 (실제든 생성된 것이든)\n",
        "- Dense(512) → 특징 추출\n",
        "- Dense(256) → 비선형 판단 강화\n",
        "- Dense(1, sigmoid) → 최종적으로 “진짜(1)”인지 “가짜(0)”인지 확률 출력"
      ],
      "metadata": {
        "id": "B2zCSOSevSMF"
      }
    },
    {
      "cell_type": "code",
      "source": [
        "# -------------------- 3. 모델 정의 --------------------\n",
        "def make_generator_model():\n",
        "    return tf.keras.Sequential([\n",
        "        tf.keras.Input(shape=(100,)), # 명시적 Input layer\n",
        "        layers.Dense(256, activation='relu'),\n",
        "        layers.Dense(512, activation='relu'),\n",
        "        layers.Dense(784, activation='tanh') # 출력은 784 = 28x28\n",
        "    ])\n",
        "\n",
        "def make_discriminator_model():\n",
        "    return tf.keras.Sequential([\n",
        "        tf.keras.Input(shape=(784,)), # 명시적 Input layer\n",
        "        layers.Dense(512, activation='relu'),\n",
        "        layers.Dense(256, activation='relu'),\n",
        "        layers.Dense(1, activation='sigmoid') # 출력은 실수 하나 (진짜/가짜 확률)\n",
        "    ])"
      ],
      "metadata": {
        "id": "DHPC51q_o644"
      },
      "execution_count": null,
      "outputs": []
    },
    {
      "cell_type": "markdown",
      "source": [
        "### 정규 분포(65, 95, 99.7)\n",
        "\n",
        "| 구간     | 포함되는 비율     | 의미                            |\n",
        "| ------ | ----------- | ----------------------------- |\n",
        "| μ ± 1σ | 약 **68%**   | 평균에서 표준편차 1 이내에 전체의 약 68% 데이터 |\n",
        "| μ ± 2σ | 약 **95%**   | 표준편차 2 이내에 약 95% 데이터          |\n",
        "| μ ± 3σ | 약 **99.7%** | 표준편차 3 이내에 거의 모든 데이터 포함       |\n"
      ],
      "metadata": {
        "id": "nn86TgtiyHtf"
      }
    },
    {
      "cell_type": "code",
      "source": [
        "# 표준 정규 분포 난수 생성\n",
        "tf.random.normal([BATCH_SIZE, 100])"
      ],
      "metadata": {
        "colab": {
          "base_uri": "https://localhost:8080/"
        },
        "id": "uIe2JC-_sHGd",
        "outputId": "74255ce4-e3d1-44a8-8a56-1c03bc6e8b87"
      },
      "execution_count": null,
      "outputs": [
        {
          "output_type": "execute_result",
          "data": {
            "text/plain": [
              "<tf.Tensor: shape=(128, 100), dtype=float32, numpy=\n",
              "array([[-0.11491171,  0.38009262, -0.13110414, ..., -1.3035576 ,\n",
              "        -0.16940023, -0.73421943],\n",
              "       [-1.5866891 , -0.77660686, -1.542433  , ..., -1.0679109 ,\n",
              "        -1.1183635 ,  1.0735601 ],\n",
              "       [ 0.6984921 , -0.9841736 ,  0.23516668, ..., -0.849656  ,\n",
              "        -1.4869792 , -0.14337865],\n",
              "       ...,\n",
              "       [-0.92857236, -1.575435  , -1.0733782 , ..., -1.614296  ,\n",
              "         0.4812767 ,  0.24278365],\n",
              "       [ 0.01280581,  0.34450883,  0.2581041 , ...,  0.491478  ,\n",
              "        -0.61437553,  0.32791272],\n",
              "       [-0.21389392,  0.11532076,  0.26230267, ..., -1.0576286 ,\n",
              "        -1.2353674 ,  1.209835  ]], dtype=float32)>"
            ]
          },
          "metadata": {},
          "execution_count": 17
        }
      ]
    },
    {
      "cell_type": "code",
      "source": [
        "# -------------------- 4. GAN 클래스 정의 --------------------\n",
        "class GAN(tf.keras.Model):\n",
        "    # Generator와 Discriminator 모델 연결(설정)\n",
        "    def __init__(self, generator, discriminator):\n",
        "        super().__init__()\n",
        "        self.generator = generator\n",
        "        self.discriminator = discriminator\n",
        "\n",
        "    # Optimizer 및 손실 함수 설정\n",
        "    def compile(self, g_optimizer, d_optimizer, loss_fn):\n",
        "        super().compile()\n",
        "        self.g_optimizer = g_optimizer\n",
        "        self.d_optimizer = d_optimizer\n",
        "        self.loss_fn = loss_fn\n",
        "\n",
        "    # GAN 학습 로직 1 스텝 정의 (Discriminator → Generator 순)\n",
        "    # 메소드 train_step(): model.fit(...) 내부에서 자동 호출\n",
        "    def train_step(self, real_images):\n",
        "        batch_size = tf.shape(real_images)[0] # 128\n",
        "        # 생성자에 넣을 입력 노이즈 벡터를 생성해 변수 noze에 저장\n",
        "        # 하나의 이미지를 될 100차원의 랜덤 벡터\n",
        "        # batch_size 만큼 생성 → (128, 100) 모양의 2D 텐서가 만들어짐\n",
        "        # 나중에 생성자는 이 noze로부터 28 x 28인 784차원의 이미지를 생성\n",
        "        noise = tf.random.normal([batch_size, 100]) # 정규분포 난수, 크기 (128, 100)\n",
        "\n",
        "        # 판별자 Discriminator\n",
        "        # ----------- Discriminator 학습 시작 -----------\n",
        "        # Gradient 추적을 위한 테이프 시작 (자동 미분용)\n",
        "        with tf.GradientTape() as tape:\n",
        "            # Generator를 통해 가짜 이미지 생성\n",
        "            fake_images = self.generator(noise)\n",
        "            # 진짜 이미지에 대한 판별자 출력값(logits)\n",
        "            real_logits = self.discriminator(real_images)\n",
        "            # 가짜 이미지에 대한 판별자 출력값(logits)\n",
        "            fake_logits = self.discriminator(fake_images)\n",
        "            # 진짜 이미지를 1로 예측하도록 유도하는 손실,\n",
        "            # loss_fn(목표값(target), 예측값(logit 또는 output))\n",
        "            d_loss_real = self.loss_fn(tf.ones_like(real_logits), real_logits)\n",
        "            # 가짜 이미지를 0으로 예측하도록 유도하는 손실\n",
        "            d_loss_fake = self.loss_fn(tf.zeros_like(fake_logits), fake_logits)\n",
        "            # 두 손실의 평균 → 최종 Discriminator 손실\n",
        "            d_loss = (d_loss_real + d_loss_fake) / 2\n",
        "\n",
        "        # 손실을 기반으로 Discriminator의 gradient 계산\n",
        "        grads = tape.gradient(d_loss, self.discriminator.trainable_variables)\n",
        "        # 계산된 gradient로 Discriminator의 파라미터 업데이트\n",
        "        self.d_optimizer.apply_gradients(zip(grads, self.discriminator.trainable_variables))\n",
        "        # ----------- Discriminator 학습 끝 -----------\n",
        "\n",
        "        # 생성자 Generator\n",
        "        # ----------- Generator 학습 시작 -----------\n",
        "        # 새로운 노이즈 벡터 샘플링\n",
        "        noise = tf.random.normal([batch_size, 100])\n",
        "        # Generator 훈련을 위한 GradientTape 시작\n",
        "        with tf.GradientTape() as tape:\n",
        "            # Generator로부터 가짜 이미지 생성\n",
        "            fake_images = self.generator(noise)\n",
        "            # 생성된 이미지에 대해 Discriminator가 내놓은 판별값\n",
        "            fake_logits = self.discriminator(fake_images)\n",
        "            # Generator는 Discriminator가 \"진짜\"라고 믿도록 손실을 계산\n",
        "            g_loss = self.loss_fn(tf.ones_like(fake_logits), fake_logits)\n",
        "\n",
        "        # 손실에 대한 Gradient 계산 (Generator 파라미터만)\n",
        "        grads = tape.gradient(g_loss, self.generator.trainable_variables)\n",
        "        # Generator의 파라미터를 업데이트\n",
        "        self.g_optimizer.apply_gradients(zip(grads, self.generator.trainable_variables))\n",
        "        # ----------- Generator 학습 끝 -----------\n",
        "\n",
        "        return {\"d_loss\": d_loss, \"g_loss\": g_loss}"
      ],
      "metadata": {
        "id": "VpAvXNbixjb6"
      },
      "execution_count": null,
      "outputs": []
    },
    {
      "cell_type": "markdown",
      "source": [
        "## 종료"
      ],
      "metadata": {
        "id": "Om-h9BYN4Rah"
      }
    }
  ]
}